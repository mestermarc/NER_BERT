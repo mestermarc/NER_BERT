{
 "cells": [
  {
   "cell_type": "code",
   "execution_count": 1,
   "metadata": {},
   "outputs": [],
   "source": [
    "import pandas as pd\n",
    "import numpy as np"
   ]
  },
  {
   "cell_type": "code",
   "execution_count": 3,
   "metadata": {},
   "outputs": [],
   "source": [
    "FILEPATH = '../data/TrainNER.csv'\n",
    "FILEPATH2 = '../data/ner.csv'\n"
   ]
  },
  {
   "cell_type": "code",
   "execution_count": 18,
   "metadata": {},
   "outputs": [
    {
     "data": {
      "text/html": [
       "<div>\n",
       "<style scoped>\n",
       "    .dataframe tbody tr th:only-of-type {\n",
       "        vertical-align: middle;\n",
       "    }\n",
       "\n",
       "    .dataframe tbody tr th {\n",
       "        vertical-align: top;\n",
       "    }\n",
       "\n",
       "    .dataframe thead th {\n",
       "        text-align: right;\n",
       "    }\n",
       "</style>\n",
       "<table border=\"1\" class=\"dataframe\">\n",
       "  <thead>\n",
       "    <tr style=\"text-align: right;\">\n",
       "      <th></th>\n",
       "      <th>text</th>\n",
       "      <th>labels</th>\n",
       "    </tr>\n",
       "  </thead>\n",
       "  <tbody>\n",
       "    <tr>\n",
       "      <th>0</th>\n",
       "      <td>Thousands of demonstrators have marched throug...</td>\n",
       "      <td>O O O O O O B-geo O O O O O B-geo O O O O O B-...</td>\n",
       "    </tr>\n",
       "    <tr>\n",
       "      <th>1</th>\n",
       "      <td>Iranian officials say they expect to get acces...</td>\n",
       "      <td>B-gpe O O O O O O O O O O O O O O B-tim O O O ...</td>\n",
       "    </tr>\n",
       "    <tr>\n",
       "      <th>2</th>\n",
       "      <td>Helicopter gunships Saturday pounded militant ...</td>\n",
       "      <td>O O B-tim O O O O O B-geo O O O O O B-org O O ...</td>\n",
       "    </tr>\n",
       "    <tr>\n",
       "      <th>3</th>\n",
       "      <td>They left after a tense hour-long standoff wit...</td>\n",
       "      <td>O O O O O O O O O O O</td>\n",
       "    </tr>\n",
       "    <tr>\n",
       "      <th>4</th>\n",
       "      <td>U.N. relief coordinator Jan Egeland said Sunda...</td>\n",
       "      <td>B-geo O O B-per I-per O B-tim O B-geo O B-gpe ...</td>\n",
       "    </tr>\n",
       "  </tbody>\n",
       "</table>\n",
       "</div>"
      ],
      "text/plain": [
       "                                                text  \\\n",
       "0  Thousands of demonstrators have marched throug...   \n",
       "1  Iranian officials say they expect to get acces...   \n",
       "2  Helicopter gunships Saturday pounded militant ...   \n",
       "3  They left after a tense hour-long standoff wit...   \n",
       "4  U.N. relief coordinator Jan Egeland said Sunda...   \n",
       "\n",
       "                                              labels  \n",
       "0  O O O O O O B-geo O O O O O B-geo O O O O O B-...  \n",
       "1  B-gpe O O O O O O O O O O O O O O B-tim O O O ...  \n",
       "2  O O B-tim O O O O O B-geo O O O O O B-org O O ...  \n",
       "3                              O O O O O O O O O O O  \n",
       "4  B-geo O O B-per I-per O B-tim O B-geo O B-gpe ...  "
      ]
     },
     "execution_count": 18,
     "metadata": {},
     "output_type": "execute_result"
    }
   ],
   "source": [
    "FILEPATH = '../data/TrainNER.csv'\n",
    "FILEPATH2 = '../data/ner.csv'\n",
    "\n",
    "\n",
    "df2 = pd.read_csv(FILEPATH2)\n",
    "df2.head()"
   ]
  },
  {
   "cell_type": "code",
   "execution_count": 2,
   "metadata": {},
   "outputs": [],
   "source": [
    "import re\n",
    "\n",
    "def get_clean_word(inword):\n",
    "  if  len(str(inword)) > 1:\n",
    "    if str(inword) == '--':\n",
    "      stri = '-'\n",
    "    else:\n",
    "      stri = re.sub(\"-|'|_|~\", '', str(inword))\n",
    "      stri = stri.replace('.', '')\n",
    "      stri = stri.replace(',', '')\n",
    "  else:\n",
    "    stri = str(inword)\n",
    "  return stri\n",
    "\n",
    "\n",
    "def get_correct_label(intag):\n",
    "  if intag == 'B-art':\n",
    "    return 'B-org'\n",
    "  elif intag == 'I-art':\n",
    "    return 'I-org'\n",
    "  \n",
    "  elif intag == 'B-eve':\n",
    "    return 'B-event'\n",
    "  elif intag == 'I-eve':\n",
    "    return 'I-event'\n",
    "  \n",
    "  elif intag == 'B-nat':\n",
    "    return 'O'\n",
    "  elif intag == 'I-nat':\n",
    "    return 'O'\n",
    "  \n",
    "  elif intag == 'B-tim':\n",
    "    return 'B-time'\n",
    "  elif intag == 'I-tim':\n",
    "    return 'I-time'\n",
    "  "
   ]
  },
  {
   "cell_type": "code",
   "execution_count": 3,
   "metadata": {},
   "outputs": [
    {
     "name": "stdout",
     "output_type": "stream",
     "text": [
      "47959\n",
      "47959\n"
     ]
    }
   ],
   "source": [
    "FILEPATH2 = '../data/ner.csv'\n",
    "\n",
    "df2 = pd.read_csv(FILEPATH2)\n",
    "vals = df2['text'].values\n",
    "tags2 = df2['labels'].values\n",
    "all_sentences = []\n",
    "\n",
    "for sent in vals:\n",
    "    words = sent.split()\n",
    "    sentences = [get_clean_word(word) for word in words]\n",
    "    all_sentences.append(sentences)\n",
    "\n",
    "print(len(all_sentences))\n",
    "print(len(vals))"
   ]
  },
  {
   "cell_type": "code",
   "execution_count": 4,
   "metadata": {},
   "outputs": [
    {
     "name": "stdout",
     "output_type": "stream",
     "text": [
      "['Thousands', 'of', 'demonstrators', 'have', 'marched', 'through', 'London', 'to', 'protest', 'the', 'war', 'in', 'Iraq', 'and', 'demand', 'the', 'withdrawal', 'of', 'British', 'troops', 'from', 'that', 'country', '.']\n"
     ]
    }
   ],
   "source": [
    "print(all_sentences[0])"
   ]
  },
  {
   "cell_type": "code",
   "execution_count": 5,
   "metadata": {},
   "outputs": [
    {
     "name": "stdout",
     "output_type": "stream",
     "text": [
      "47959\n"
     ]
    },
    {
     "data": {
      "text/html": [
       "<div>\n",
       "<style scoped>\n",
       "    .dataframe tbody tr th:only-of-type {\n",
       "        vertical-align: middle;\n",
       "    }\n",
       "\n",
       "    .dataframe tbody tr th {\n",
       "        vertical-align: top;\n",
       "    }\n",
       "\n",
       "    .dataframe thead th {\n",
       "        text-align: right;\n",
       "    }\n",
       "</style>\n",
       "<table border=\"1\" class=\"dataframe\">\n",
       "  <thead>\n",
       "    <tr style=\"text-align: right;\">\n",
       "      <th></th>\n",
       "      <th>text</th>\n",
       "      <th>labels</th>\n",
       "    </tr>\n",
       "  </thead>\n",
       "  <tbody>\n",
       "    <tr>\n",
       "      <th>0</th>\n",
       "      <td>Thousands of demonstrators have marched throug...</td>\n",
       "      <td>O O O O O O B-geo O O O O O B-geo O O O O O B-...</td>\n",
       "    </tr>\n",
       "    <tr>\n",
       "      <th>1</th>\n",
       "      <td>Iranian officials say they expect to get acces...</td>\n",
       "      <td>B-gpe O O O O O O O O O O O O O O B-tim O O O ...</td>\n",
       "    </tr>\n",
       "    <tr>\n",
       "      <th>2</th>\n",
       "      <td>Helicopter gunships Saturday pounded militant ...</td>\n",
       "      <td>O O B-tim O O O O O B-geo O O O O O B-org O O ...</td>\n",
       "    </tr>\n",
       "    <tr>\n",
       "      <th>3</th>\n",
       "      <td>They left after a tense hourlong standoff with...</td>\n",
       "      <td>O O O O O O O O O O O</td>\n",
       "    </tr>\n",
       "    <tr>\n",
       "      <th>4</th>\n",
       "      <td>UN relief coordinator Jan Egeland said Sunday ...</td>\n",
       "      <td>B-geo O O B-per I-per O B-tim O B-geo O B-gpe ...</td>\n",
       "    </tr>\n",
       "  </tbody>\n",
       "</table>\n",
       "</div>"
      ],
      "text/plain": [
       "                                                text  \\\n",
       "0  Thousands of demonstrators have marched throug...   \n",
       "1  Iranian officials say they expect to get acces...   \n",
       "2  Helicopter gunships Saturday pounded militant ...   \n",
       "3  They left after a tense hourlong standoff with...   \n",
       "4  UN relief coordinator Jan Egeland said Sunday ...   \n",
       "\n",
       "                                              labels  \n",
       "0  O O O O O O B-geo O O O O O B-geo O O O O O B-...  \n",
       "1  B-gpe O O O O O O O O O O O O O O B-tim O O O ...  \n",
       "2  O O B-tim O O O O O B-geo O O O O O B-org O O ...  \n",
       "3                              O O O O O O O O O O O  \n",
       "4  B-geo O O B-per I-per O B-tim O B-geo O B-gpe ...  "
      ]
     },
     "execution_count": 5,
     "metadata": {},
     "output_type": "execute_result"
    }
   ],
   "source": [
    "\n",
    "list_of_tag_sentences2 = [[' '.join(stags)] for stags in all_sentences]\n",
    "list_of_tag_sentences2 = [item for sublist in list_of_tag_sentences2 for item in sublist]\n",
    "\n",
    "print(len(list_of_tag_sentences2))\n",
    "d2 = {'text':list_of_tag_sentences2,'labels':tags2}\n",
    "dtf2 = pd.DataFrame(d2, columns=['text','labels'])\n",
    "dtf2.head()"
   ]
  },
  {
   "cell_type": "code",
   "execution_count": 11,
   "metadata": {},
   "outputs": [
    {
     "ename": "AttributeError",
     "evalue": "'numpy.ndarray' object has no attribute 'replace'",
     "output_type": "error",
     "traceback": [
      "\u001b[1;31m---------------------------------------------------------------------------\u001b[0m",
      "\u001b[1;31mAttributeError\u001b[0m                            Traceback (most recent call last)",
      "\u001b[1;32me:\\Projektek\\NER_BERT\\prev_notebooks\\main.ipynb Cell 8\u001b[0m in \u001b[0;36m<cell line: 2>\u001b[1;34m()\u001b[0m\n\u001b[0;32m      <a href='vscode-notebook-cell:/e%3A/Projektek/NER_BERT/prev_notebooks/main.ipynb#X46sZmlsZQ%3D%3D?line=0'>1</a>\u001b[0m labels \u001b[39m=\u001b[39m df2[\u001b[39m'\u001b[39m\u001b[39mlabels\u001b[39m\u001b[39m'\u001b[39m]\u001b[39m.\u001b[39mvalues\n\u001b[1;32m----> <a href='vscode-notebook-cell:/e%3A/Projektek/NER_BERT/prev_notebooks/main.ipynb#X46sZmlsZQ%3D%3D?line=1'>2</a>\u001b[0m labels\u001b[39m.\u001b[39;49mreplace(\u001b[39m'\u001b[39m\u001b[39mB-geo\u001b[39m\u001b[39m'\u001b[39m, \u001b[39m'\u001b[39m\u001b[39mff\u001b[39m\u001b[39m'\u001b[39m)\n\u001b[0;32m      <a href='vscode-notebook-cell:/e%3A/Projektek/NER_BERT/prev_notebooks/main.ipynb#X46sZmlsZQ%3D%3D?line=2'>3</a>\u001b[0m \u001b[39mfor\u001b[39;00m label \u001b[39min\u001b[39;00m labels[:\u001b[39m5\u001b[39m]:\n\u001b[0;32m      <a href='vscode-notebook-cell:/e%3A/Projektek/NER_BERT/prev_notebooks/main.ipynb#X46sZmlsZQ%3D%3D?line=3'>4</a>\u001b[0m     \u001b[39mprint\u001b[39m(label\u001b[39m.\u001b[39msplit())\n",
      "\u001b[1;31mAttributeError\u001b[0m: 'numpy.ndarray' object has no attribute 'replace'"
     ]
    }
   ],
   "source": [
    "labels = df2['labels'].values\n",
    "labels.replace('B-geo', 'ff')\n",
    "for label in labels[:5]:\n",
    "    print(label.split())"
   ]
  },
  {
   "cell_type": "code",
   "execution_count": 13,
   "metadata": {},
   "outputs": [
    {
     "name": "stdout",
     "output_type": "stream",
     "text": [
      "len of sentences:9000\n",
      "An example is:\n",
      " ['Police', 'said', 'the', 'British', 'Home', 'Office', 'sought', 'an', 'investigation', 'of', 'Khayam', 's', 'behavior', 'after', 'he', 'was', 'photographed', 'last', 'week', 'at', 'a', 'demonstration', 'dressed', 'in', 'fatigues', ',', 'a', 'black', 'cap', ',', 'and', 'a', 'bulky', 'belt', '.']\n",
      "9000\n",
      "An example is:\n",
      " ['O', 'O', 'O', 'B-org', 'I-org', 'I-org', 'O', 'O', 'O', 'O', 'B-per', 'O', 'O', 'O', 'O', 'O', 'O', 'O', 'O', 'O', 'O', 'O', 'O', 'O', 'O', 'O', 'O', 'O', 'O', 'O', 'O', 'O', 'O', 'O', 'O']\n",
      "An example is:\n",
      " Police said the British Home Office sought an investigation of Khayam s behavior after he was photographed last week at a demonstration dressed in fatigues , a black cap , and a bulky belt . 35\n",
      "An example is:\n",
      " O O O B-org I-org I-org O O O O B-per O O O O O O O O O O O O O O O O O O O O O O O O 35\n"
     ]
    }
   ],
   "source": [
    "FILEPATH = '../data/TrainNER.csv'\n",
    "\n",
    "df = pd.read_csv(FILEPATH, sep=';', encoding= 'unicode_escape')\n",
    "\n",
    "sentence_column = df['Sentence #'].values\n",
    "sentence_column = [str(cell) for cell in sentence_column]\n",
    "\n",
    "words = df['Word'].values\n",
    "all_tags = df['Tag'].values\n",
    "all_tags = [str(tag) for tag in all_tags]\n",
    "\n",
    "sentences = []\n",
    "sentence_tags = []\n",
    "\n",
    "\n",
    "for i in range(len(sentence_column)):\n",
    "    if sentence_column[i] != 'nan':\n",
    "        if i != 0 :sentences.append(sentence)\n",
    "        sentence = []\n",
    "        sentence.append(get_clean_word(words[i]))\n",
    "    else:\n",
    "        sentence.append(get_clean_word(words[i]))\n",
    "sentences.append(sentence)\n",
    "\n",
    "print(f'len of sentences:{(len(sentences))}')\n",
    "print('An example is:\\n', sentences[42])\n",
    "\n",
    "c = 0\n",
    "sentence_tags = []\n",
    "\n",
    "for sentence in sentences:\n",
    "    sentence_tag = []\n",
    "    for word in sentence:\n",
    "        sentence_tag.append(all_tags[c])\n",
    "        c += 1\n",
    "    sentence_tags.append(sentence_tag)\n",
    "print(len(sentence_tags))\n",
    "print('An example is:\\n', sentence_tags[42])\n",
    "\n",
    "list_of_string_sentences = [[' '.join(sentence)] for sentence in sentences]\n",
    "list_of_string_sentences = [item for sublist in list_of_string_sentences for item in sublist]\n",
    "print('An example is:\\n', list_of_string_sentences[42], len(sentences[42]))\n",
    "\n",
    "list_of_tag_sentences = [[' '.join(stags)] for stags in sentence_tags]\n",
    "list_of_tag_sentences = [item for sublist in list_of_tag_sentences for item in sublist]\n",
    "print('An example is:\\n', list_of_tag_sentences[42], len(sentence_tags[42]))"
   ]
  },
  {
   "cell_type": "code",
   "execution_count": 76,
   "metadata": {},
   "outputs": [
    {
     "name": "stdout",
     "output_type": "stream",
     "text": [
      "9000\n",
      "An example is:\n",
      " ['O', 'O', 'O', 'B-org', 'I-org', 'I-org', 'O', 'O', 'O', 'O', 'B-per', 'O', 'O', 'O', 'O', 'O', 'O', 'O', 'O', 'O', 'O', 'O', 'O', 'O', 'O', 'O', 'O', 'O', 'O', 'O', 'O', 'O', 'O', 'O', 'O']\n",
      "An example is:\n",
      " Police said the British Home Office sought an investigation of Khayam s behavior after he was photographed last week at a demonstration dressed in fatigues , a black cap , and a bulky belt . 35\n",
      "An example is:\n",
      " O O O B-org I-org I-org O O O O B-per O O O O O O O O O O O O O O O O O O O O O O O O 35\n"
     ]
    }
   ],
   "source": []
  },
  {
   "cell_type": "code",
   "execution_count": 77,
   "metadata": {},
   "outputs": [
    {
     "name": "stdout",
     "output_type": "stream",
     "text": [
      "9000\n"
     ]
    },
    {
     "data": {
      "text/html": [
       "<div>\n",
       "<style scoped>\n",
       "    .dataframe tbody tr th:only-of-type {\n",
       "        vertical-align: middle;\n",
       "    }\n",
       "\n",
       "    .dataframe tbody tr th {\n",
       "        vertical-align: top;\n",
       "    }\n",
       "\n",
       "    .dataframe thead th {\n",
       "        text-align: right;\n",
       "    }\n",
       "</style>\n",
       "<table border=\"1\" class=\"dataframe\">\n",
       "  <thead>\n",
       "    <tr style=\"text-align: right;\">\n",
       "      <th></th>\n",
       "      <th>text</th>\n",
       "      <th>labels</th>\n",
       "    </tr>\n",
       "  </thead>\n",
       "  <tbody>\n",
       "    <tr>\n",
       "      <th>0</th>\n",
       "      <td>President Karzai thanked his allies for their ...</td>\n",
       "      <td>B-per I-per O O O O O O O O O O</td>\n",
       "    </tr>\n",
       "    <tr>\n",
       "      <th>1</th>\n",
       "      <td>The commander of NATO s Afghan force , British...</td>\n",
       "      <td>O O O B-org O B-gpe O O B-org I-org B-per I-pe...</td>\n",
       "    </tr>\n",
       "    <tr>\n",
       "      <th>2</th>\n",
       "      <td>Referring to the fight in southern Afghanistan...</td>\n",
       "      <td>O O O O O B-geo I-geo O B-org O O O O B-time O...</td>\n",
       "    </tr>\n",
       "    <tr>\n",
       "      <th>3</th>\n",
       "      <td>Richards was promoted to fourstar general hour...</td>\n",
       "      <td>B-per O O O O O O O O O O O</td>\n",
       "    </tr>\n",
       "    <tr>\n",
       "      <th>4</th>\n",
       "      <td>Burma s military government said today that ex...</td>\n",
       "      <td>B-geo O O O O B-time O O B-per I-per I-per O O...</td>\n",
       "    </tr>\n",
       "  </tbody>\n",
       "</table>\n",
       "</div>"
      ],
      "text/plain": [
       "                                                text  \\\n",
       "0  President Karzai thanked his allies for their ...   \n",
       "1  The commander of NATO s Afghan force , British...   \n",
       "2  Referring to the fight in southern Afghanistan...   \n",
       "3  Richards was promoted to fourstar general hour...   \n",
       "4  Burma s military government said today that ex...   \n",
       "\n",
       "                                              labels  \n",
       "0                    B-per I-per O O O O O O O O O O  \n",
       "1  O O O B-org O B-gpe O O B-org I-org B-per I-pe...  \n",
       "2  O O O O O B-geo I-geo O B-org O O O O B-time O...  \n",
       "3                        B-per O O O O O O O O O O O  \n",
       "4  B-geo O O O O B-time O O B-per I-per I-per O O...  "
      ]
     },
     "execution_count": 77,
     "metadata": {},
     "output_type": "execute_result"
    }
   ],
   "source": [
    "print(len(list_of_string_sentences))\n",
    "\n",
    "d = {'text':list_of_string_sentences,'labels':list_of_tag_sentences}\n",
    "dtf = pd.DataFrame(d, columns=['text','labels'])\n",
    "dtf.head()"
   ]
  },
  {
   "cell_type": "code",
   "execution_count": 78,
   "metadata": {},
   "outputs": [],
   "source": [
    "for i in range(len(list_of_string_sentences)):\n",
    "  if len(list_of_string_sentences[i].split()) != len(list_of_tag_sentences[i].split()):\n",
    "    print('error!')\n",
    "    print(len(list_of_string_sentences[i].split()), len(list_of_tag_sentences[i].split()))"
   ]
  },
  {
   "cell_type": "code",
   "execution_count": 80,
   "metadata": {},
   "outputs": [
    {
     "data": {
      "text/html": [
       "<div>\n",
       "<style scoped>\n",
       "    .dataframe tbody tr th:only-of-type {\n",
       "        vertical-align: middle;\n",
       "    }\n",
       "\n",
       "    .dataframe tbody tr th {\n",
       "        vertical-align: top;\n",
       "    }\n",
       "\n",
       "    .dataframe thead th {\n",
       "        text-align: right;\n",
       "    }\n",
       "</style>\n",
       "<table border=\"1\" class=\"dataframe\">\n",
       "  <thead>\n",
       "    <tr style=\"text-align: right;\">\n",
       "      <th></th>\n",
       "      <th>text</th>\n",
       "      <th>labels</th>\n",
       "    </tr>\n",
       "  </thead>\n",
       "  <tbody>\n",
       "    <tr>\n",
       "      <th>0</th>\n",
       "      <td>President Karzai thanked his allies for their ...</td>\n",
       "      <td>B-per I-per O O O O O O O O O O</td>\n",
       "    </tr>\n",
       "    <tr>\n",
       "      <th>1</th>\n",
       "      <td>The commander of NATO s Afghan force , British...</td>\n",
       "      <td>O O O B-org O B-gpe O O B-org I-org B-per I-pe...</td>\n",
       "    </tr>\n",
       "    <tr>\n",
       "      <th>2</th>\n",
       "      <td>Referring to the fight in southern Afghanistan...</td>\n",
       "      <td>O O O O O B-geo I-geo O B-org O O O O B-time O...</td>\n",
       "    </tr>\n",
       "    <tr>\n",
       "      <th>3</th>\n",
       "      <td>Richards was promoted to fourstar general hour...</td>\n",
       "      <td>B-per O O O O O O O O O O O</td>\n",
       "    </tr>\n",
       "    <tr>\n",
       "      <th>4</th>\n",
       "      <td>Burma s military government said today that ex...</td>\n",
       "      <td>B-geo O O O O B-time O O B-per I-per I-per O O...</td>\n",
       "    </tr>\n",
       "  </tbody>\n",
       "</table>\n",
       "</div>"
      ],
      "text/plain": [
       "                                                text  \\\n",
       "0  President Karzai thanked his allies for their ...   \n",
       "1  The commander of NATO s Afghan force , British...   \n",
       "2  Referring to the fight in southern Afghanistan...   \n",
       "3  Richards was promoted to fourstar general hour...   \n",
       "4  Burma s military government said today that ex...   \n",
       "\n",
       "                                              labels  \n",
       "0                    B-per I-per O O O O O O O O O O  \n",
       "1  O O O B-org O B-gpe O O B-org I-org B-per I-pe...  \n",
       "2  O O O O O B-geo I-geo O B-org O O O O B-time O...  \n",
       "3                        B-per O O O O O O O O O O O  \n",
       "4  B-geo O O O O B-time O O B-per I-per I-per O O...  "
      ]
     },
     "execution_count": 80,
     "metadata": {},
     "output_type": "execute_result"
    }
   ],
   "source": [
    "d = {'text':list_of_string_sentences,'labels':list_of_tag_sentences}\n",
    "dtf = pd.DataFrame(d, columns=['text','labels'])\n",
    "dtf.head()"
   ]
  },
  {
   "cell_type": "code",
   "execution_count": 81,
   "metadata": {},
   "outputs": [
    {
     "data": {
      "text/html": [
       "<div>\n",
       "<style scoped>\n",
       "    .dataframe tbody tr th:only-of-type {\n",
       "        vertical-align: middle;\n",
       "    }\n",
       "\n",
       "    .dataframe tbody tr th {\n",
       "        vertical-align: top;\n",
       "    }\n",
       "\n",
       "    .dataframe thead th {\n",
       "        text-align: right;\n",
       "    }\n",
       "</style>\n",
       "<table border=\"1\" class=\"dataframe\">\n",
       "  <thead>\n",
       "    <tr style=\"text-align: right;\">\n",
       "      <th></th>\n",
       "      <th>text</th>\n",
       "      <th>labels</th>\n",
       "    </tr>\n",
       "  </thead>\n",
       "  <tbody>\n",
       "    <tr>\n",
       "      <th>0</th>\n",
       "      <td>Thousands of demonstrators have marched throug...</td>\n",
       "      <td>O O O O O O B-geo O O O O O B-geo O O O O O B-...</td>\n",
       "    </tr>\n",
       "    <tr>\n",
       "      <th>1</th>\n",
       "      <td>Iranian officials say they expect to get acces...</td>\n",
       "      <td>B-gpe O O O O O O O O O O O O O O B-tim O O O ...</td>\n",
       "    </tr>\n",
       "    <tr>\n",
       "      <th>2</th>\n",
       "      <td>Helicopter gunships Saturday pounded militant ...</td>\n",
       "      <td>O O B-tim O O O O O B-geo O O O O O B-org O O ...</td>\n",
       "    </tr>\n",
       "    <tr>\n",
       "      <th>3</th>\n",
       "      <td>They left after a tense hour-long standoff wit...</td>\n",
       "      <td>O O O O O O O O O O O</td>\n",
       "    </tr>\n",
       "    <tr>\n",
       "      <th>4</th>\n",
       "      <td>U.N. relief coordinator Jan Egeland said Sunda...</td>\n",
       "      <td>B-geo O O B-per I-per O B-tim O B-geo O B-gpe ...</td>\n",
       "    </tr>\n",
       "  </tbody>\n",
       "</table>\n",
       "</div>"
      ],
      "text/plain": [
       "                                                text  \\\n",
       "0  Thousands of demonstrators have marched throug...   \n",
       "1  Iranian officials say they expect to get acces...   \n",
       "2  Helicopter gunships Saturday pounded militant ...   \n",
       "3  They left after a tense hour-long standoff wit...   \n",
       "4  U.N. relief coordinator Jan Egeland said Sunda...   \n",
       "\n",
       "                                              labels  \n",
       "0  O O O O O O B-geo O O O O O B-geo O O O O O B-...  \n",
       "1  B-gpe O O O O O O O O O O O O O O B-tim O O O ...  \n",
       "2  O O B-tim O O O O O B-geo O O O O O B-org O O ...  \n",
       "3                              O O O O O O O O O O O  \n",
       "4  B-geo O O B-per I-per O B-tim O B-geo O B-gpe ...  "
      ]
     },
     "execution_count": 81,
     "metadata": {},
     "output_type": "execute_result"
    }
   ],
   "source": [
    "FILEPATH2 = '../data/ner.csv'\n",
    "df2 = pd.read_csv(FILEPATH2)\n",
    "df2.head()"
   ]
  },
  {
   "cell_type": "code",
   "execution_count": 83,
   "metadata": {},
   "outputs": [
    {
     "name": "stdout",
     "output_type": "stream",
     "text": [
      "9000 47959\n",
      "56959\n"
     ]
    }
   ],
   "source": [
    "print(dtf.shape[0], df2.shape[0])\n",
    "df = pd.concat([dtf, df2])\n",
    "print(df.shape[0])\n"
   ]
  },
  {
   "cell_type": "code",
   "execution_count": 86,
   "metadata": {},
   "outputs": [],
   "source": [
    "df.to_csv('../data/my_train_NER.csv', index=False)"
   ]
  },
  {
   "cell_type": "code",
   "execution_count": 87,
   "metadata": {},
   "outputs": [
    {
     "name": "stdout",
     "output_type": "stream",
     "text": [
      "56959\n"
     ]
    }
   ],
   "source": [
    "FILEPATH = '../data/my_train_NER.csv'\n",
    "df3 = pd.read_csv(FILEPATH)\n",
    "df3.head()\n",
    "print(df3.shape[0])"
   ]
  },
  {
   "cell_type": "code",
   "execution_count": 42,
   "metadata": {},
   "outputs": [
    {
     "ename": "SyntaxError",
     "evalue": "cannot assign to function call (1597745091.py, line 1)",
     "output_type": "error",
     "traceback": [
      "\u001b[1;36m  Input \u001b[1;32mIn [42]\u001b[1;36m\u001b[0m\n\u001b[1;33m    all_sentences2 = [get_clean_word(word) for sentence.split() in vals for word in sentence]\u001b[0m\n\u001b[1;37m                                               ^\u001b[0m\n\u001b[1;31mSyntaxError\u001b[0m\u001b[1;31m:\u001b[0m cannot assign to function call\n"
     ]
    }
   ],
   "source": [
    "\n",
    "\n",
    "all_sentences2 = [get_clean_word(word) for sentence in vals for word in sentence.split()]\n",
    "print(len(all_sentences2))\n",
    "print(len(vals))"
   ]
  },
  {
   "cell_type": "code",
   "execution_count": 38,
   "metadata": {},
   "outputs": [
    {
     "data": {
      "text/plain": [
       "['Hi', 'Steve!', 'Whats', 'up?']"
      ]
     },
     "execution_count": 38,
     "metadata": {},
     "output_type": "execute_result"
    }
   ],
   "source": [
    "text = ((\"Hi Steve!\"), (\"What's up?\"))\n",
    "[get_clean_word(word) for sentence in text for word in sentence.split()]"
   ]
  },
  {
   "cell_type": "code",
   "execution_count": 5,
   "metadata": {},
   "outputs": [
    {
     "ename": "AttributeError",
     "evalue": "'numpy.ndarray' object has no attribute 'replace'",
     "output_type": "error",
     "traceback": [
      "\u001b[1;31m---------------------------------------------------------------------------\u001b[0m",
      "\u001b[1;31mAttributeError\u001b[0m                            Traceback (most recent call last)",
      "\u001b[1;32me:\\Projektek\\NER_BERT\\prev_notebooks\\main.ipynb Cell 4\u001b[0m in \u001b[0;36m<cell line: 4>\u001b[1;34m()\u001b[0m\n\u001b[0;32m      <a href='vscode-notebook-cell:/e%3A/Projektek/NER_BERT/prev_notebooks/main.ipynb#W3sZmlsZQ%3D%3D?line=0'>1</a>\u001b[0m vals \u001b[39m=\u001b[39m df2[\u001b[39m'\u001b[39m\u001b[39mlabels\u001b[39m\u001b[39m'\u001b[39m]\u001b[39m.\u001b[39mvalues\n\u001b[0;32m      <a href='vscode-notebook-cell:/e%3A/Projektek/NER_BERT/prev_notebooks/main.ipynb#W3sZmlsZQ%3D%3D?line=2'>3</a>\u001b[0m \u001b[39m#list_of_labels = [item for sublist in vals for item in sublist]\u001b[39;00m\n\u001b[1;32m----> <a href='vscode-notebook-cell:/e%3A/Projektek/NER_BERT/prev_notebooks/main.ipynb#W3sZmlsZQ%3D%3D?line=3'>4</a>\u001b[0m vals \u001b[39m=\u001b[39m vals\u001b[39m.\u001b[39;49mreplace(\u001b[39m'\u001b[39m\u001b[39m \u001b[39m\u001b[39m'\u001b[39m, \u001b[39m'\u001b[39m\u001b[39m'\u001b[39m)\n\u001b[0;32m      <a href='vscode-notebook-cell:/e%3A/Projektek/NER_BERT/prev_notebooks/main.ipynb#W3sZmlsZQ%3D%3D?line=4'>5</a>\u001b[0m \u001b[39mprint\u001b[39m(np\u001b[39m.\u001b[39munique(np\u001b[39m.\u001b[39marray(vals)))\n",
      "\u001b[1;31mAttributeError\u001b[0m: 'numpy.ndarray' object has no attribute 'replace'"
     ]
    }
   ],
   "source": [
    "vals = df2['labels'].values\n",
    "\n",
    "#list_of_labels = [item for sublist in vals for item in sublist]\n",
    "vals = vals.replace(' ', '')\n",
    "print(np.unique(np.array(vals)))\n",
    "#print(list_of_labels[:30])"
   ]
  },
  {
   "cell_type": "code",
   "execution_count": 6,
   "metadata": {},
   "outputs": [
    {
     "data": {
      "text/html": [
       "<div>\n",
       "<style scoped>\n",
       "    .dataframe tbody tr th:only-of-type {\n",
       "        vertical-align: middle;\n",
       "    }\n",
       "\n",
       "    .dataframe tbody tr th {\n",
       "        vertical-align: top;\n",
       "    }\n",
       "\n",
       "    .dataframe thead th {\n",
       "        text-align: right;\n",
       "    }\n",
       "</style>\n",
       "<table border=\"1\" class=\"dataframe\">\n",
       "  <thead>\n",
       "    <tr style=\"text-align: right;\">\n",
       "      <th></th>\n",
       "      <th>Sentence #</th>\n",
       "      <th>Word</th>\n",
       "      <th>POS</th>\n",
       "      <th>Tag</th>\n",
       "    </tr>\n",
       "  </thead>\n",
       "  <tbody>\n",
       "    <tr>\n",
       "      <th>0</th>\n",
       "      <td>Sentence: 1</td>\n",
       "      <td>President</td>\n",
       "      <td>NNP</td>\n",
       "      <td>B-per</td>\n",
       "    </tr>\n",
       "    <tr>\n",
       "      <th>1</th>\n",
       "      <td>NaN</td>\n",
       "      <td>Karzai</td>\n",
       "      <td>NNP</td>\n",
       "      <td>I-per</td>\n",
       "    </tr>\n",
       "    <tr>\n",
       "      <th>2</th>\n",
       "      <td>NaN</td>\n",
       "      <td>thanked</td>\n",
       "      <td>VBD</td>\n",
       "      <td>O</td>\n",
       "    </tr>\n",
       "    <tr>\n",
       "      <th>3</th>\n",
       "      <td>NaN</td>\n",
       "      <td>his</td>\n",
       "      <td>PRP$</td>\n",
       "      <td>O</td>\n",
       "    </tr>\n",
       "    <tr>\n",
       "      <th>4</th>\n",
       "      <td>NaN</td>\n",
       "      <td>allies</td>\n",
       "      <td>NNS</td>\n",
       "      <td>O</td>\n",
       "    </tr>\n",
       "  </tbody>\n",
       "</table>\n",
       "</div>"
      ],
      "text/plain": [
       "    Sentence #       Word   POS    Tag\n",
       "0  Sentence: 1  President   NNP  B-per\n",
       "1          NaN     Karzai   NNP  I-per\n",
       "2          NaN    thanked   VBD      O\n",
       "3          NaN        his  PRP$      O\n",
       "4          NaN     allies   NNS      O"
      ]
     },
     "execution_count": 6,
     "metadata": {},
     "output_type": "execute_result"
    }
   ],
   "source": [
    "df = pd.read_csv(FILEPATH, sep=';', encoding= 'unicode_escape')\n",
    "df.head()"
   ]
  },
  {
   "cell_type": "code",
   "execution_count": 13,
   "metadata": {},
   "outputs": [
    {
     "name": "stdout",
     "output_type": "stream",
     "text": [
      "['B-per', 'I-per', 'O', 'B-org', 'B-gpe', 'I-org', 'B-geo', 'I-geo', 'B-time', 'I-time', 'I-gpe', 'B-obj', 'I-obj', 'B-event', 'I-event', 'nan']\n",
      "['NNP', 'VBD', 'PRP$', 'NNS', 'IN', 'NN', 'VBG', '.', 'DT', 'POS', 'JJ', ',', 'MD', 'VB', 'TO', 'RB', 'VBZ', 'VBN', 'CD', 'WP', 'PRP', 'CC', 'VBP', 'JJS', 'JJR', 'NNPS', 'WRB', 'WDT', 'WP$', '``', 'RP', 'PDT', 'EX', 'RBS', 'LRB', 'RRB', ':', '$', 'RBR', ';', 'UH', 'nan']\n",
      "196646\n",
      "196646\n"
     ]
    }
   ],
   "source": [
    "tags = df['Tag'].unique()\n",
    "tags = [str(tag) for tag in tags]\n",
    "print(tags)\n",
    "\n",
    "positions = df['POS'].unique()\n",
    "positions = [str(pos) for pos in positions]\n",
    "print(positions)\n",
    "\n",
    "sentence_column = df['Sentence #'].values\n",
    "sentence_column = [str(cell) for cell in sentence_column]\n",
    "\n",
    "words = df['Word'].values\n",
    "all_tags = df['Tag'].values\n",
    "all_tags = [str(tag) for tag in all_tags]\n",
    "print(len(all_tags))\n",
    "print(len(words))"
   ]
  },
  {
   "cell_type": "code",
   "execution_count": 14,
   "metadata": {},
   "outputs": [],
   "source": [
    "import re\n",
    "\n",
    "def get_clean_word(inword):\n",
    "  if  len(str(inword)) > 1:\n",
    "    if str(inword) == '--':\n",
    "      stri = '-'\n",
    "    else:\n",
    "      stri = re.sub(\"-|'|_|~\", '', str(inword))\n",
    "      stri = stri.replace('.', '')\n",
    "      stri = stri.replace(',', '')\n",
    "  else:\n",
    "    stri = str(inword)\n",
    "  return stri"
   ]
  },
  {
   "cell_type": "code",
   "execution_count": 15,
   "metadata": {},
   "outputs": [
    {
     "name": "stdout",
     "output_type": "stream",
     "text": [
      "len of sentences:9000\n",
      "An example is:\n",
      " ['Police', 'said', 'the', 'British', 'Home', 'Office', 'sought', 'an', 'investigation', 'of', 'Khayam', 's', 'behavior', 'after', 'he', 'was', 'photographed', 'last', 'week', 'at', 'a', 'demonstration', 'dressed', 'in', 'fatigues', ',', 'a', 'black', 'cap', ',', 'and', 'a', 'bulky', 'belt', '.']\n"
     ]
    }
   ],
   "source": [
    "sentences = []\n",
    "sentence_tags = []\n",
    "\n",
    "\n",
    "for i in range(len(sentence_column)):\n",
    "    if sentence_column[i] != 'nan':\n",
    "        if i != 0 :sentences.append(sentence)\n",
    "        sentence = []\n",
    "        sentence.append(get_clean_word(words[i]))\n",
    "    else:\n",
    "        sentence.append(get_clean_word(words[i]))\n",
    "sentences.append(sentence)\n",
    "\n",
    "print(f'len of sentences:{(len(sentences))}')\n",
    "print('An example is:\\n', sentences[42])"
   ]
  },
  {
   "cell_type": "code",
   "execution_count": 16,
   "metadata": {},
   "outputs": [
    {
     "name": "stdout",
     "output_type": "stream",
     "text": [
      "9000\n",
      "An example is:\n",
      " ['O', 'O', 'O', 'B-org', 'I-org', 'I-org', 'O', 'O', 'O', 'O', 'B-per', 'O', 'O', 'O', 'O', 'O', 'O', 'O', 'O', 'O', 'O', 'O', 'O', 'O', 'O', 'O', 'O', 'O', 'O', 'O', 'O', 'O', 'O', 'O', 'O']\n"
     ]
    }
   ],
   "source": [
    "c = 0\n",
    "sentence_tags = []\n",
    "\n",
    "for sentence in sentences:\n",
    "    sentence_tag = []\n",
    "    for word in sentence:\n",
    "        sentence_tag.append(all_tags[c])\n",
    "        c += 1\n",
    "    sentence_tags.append(sentence_tag)\n",
    "print(len(sentence_tags))\n",
    "print('An example is:\\n', sentence_tags[42])\n",
    "\n",
    "list_of_string_sentences = [[' '.join(sentence)] for sentence in sentences]\n",
    "list_of_string_sentences = [item for sublist in list_of_string_sentences for item in sublist]\n",
    "print('An example is:\\n', list_of_string_sentences[42], len(sentences[42]))\n",
    "\n",
    "list_of_tag_sentences = [[' '.join(stags)] for stags in sentence_tags]\n",
    "list_of_tag_sentences = [item for sublist in list_of_tag_sentences for item in sublist]\n",
    "print('An example is:\\n', list_of_tag_sentences[42], len(sentence_tags[42]))"
   ]
  },
  {
   "cell_type": "code",
   "execution_count": 17,
   "metadata": {},
   "outputs": [
    {
     "name": "stdout",
     "output_type": "stream",
     "text": [
      "An example is:\n",
      " Police said the British Home Office sought an investigation of Khayam s behavior after he was photographed last week at a demonstration dressed in fatigues , a black cap , and a bulky belt . 35\n",
      "An example is:\n",
      " O O O B-org I-org I-org O O O O B-per O O O O O O O O O O O O O O O O O O O O O O O O 35\n"
     ]
    }
   ],
   "source": [
    "list_of_string_sentences = [[' '.join(sentence)] for sentence in sentences]\n",
    "list_of_string_sentences = [item for sublist in list_of_string_sentences for item in sublist]\n",
    "print('An example is:\\n', list_of_string_sentences[42], len(sentences[42]))\n",
    "\n",
    "list_of_tag_sentences = [[' '.join(stags)] for stags in sentence_tags]\n",
    "list_of_tag_sentences = [item for sublist in list_of_tag_sentences for item in sublist]\n",
    "print('An example is:\\n', list_of_tag_sentences[42], len(sentence_tags[42]))"
   ]
  },
  {
   "cell_type": "code",
   "execution_count": 13,
   "metadata": {},
   "outputs": [],
   "source": []
  },
  {
   "cell_type": "code",
   "execution_count": 14,
   "metadata": {},
   "outputs": [
    {
     "data": {
      "text/html": [
       "<div>\n",
       "<style scoped>\n",
       "    .dataframe tbody tr th:only-of-type {\n",
       "        vertical-align: middle;\n",
       "    }\n",
       "\n",
       "    .dataframe tbody tr th {\n",
       "        vertical-align: top;\n",
       "    }\n",
       "\n",
       "    .dataframe thead th {\n",
       "        text-align: right;\n",
       "    }\n",
       "</style>\n",
       "<table border=\"1\" class=\"dataframe\">\n",
       "  <thead>\n",
       "    <tr style=\"text-align: right;\">\n",
       "      <th></th>\n",
       "      <th>text</th>\n",
       "      <th>labels</th>\n",
       "    </tr>\n",
       "  </thead>\n",
       "  <tbody>\n",
       "    <tr>\n",
       "      <th>0</th>\n",
       "      <td>President Karzai thanked his allies for their ...</td>\n",
       "      <td>B-per I-per O O O O O O O O O O</td>\n",
       "    </tr>\n",
       "    <tr>\n",
       "      <th>1</th>\n",
       "      <td>The commander of NATO 's Afghan force , Britis...</td>\n",
       "      <td>O O O B-org O B-gpe O O B-org I-org B-per I-pe...</td>\n",
       "    </tr>\n",
       "    <tr>\n",
       "      <th>2</th>\n",
       "      <td>Referring to the fight in southern Afghanistan...</td>\n",
       "      <td>O O O O O B-geo I-geo O B-org O O O O B-time O...</td>\n",
       "    </tr>\n",
       "    <tr>\n",
       "      <th>3</th>\n",
       "      <td>Richards was promoted to four-star general hou...</td>\n",
       "      <td>B-per O O O O O O O O O O O</td>\n",
       "    </tr>\n",
       "    <tr>\n",
       "      <th>4</th>\n",
       "      <td>Burma 's military government said today that e...</td>\n",
       "      <td>B-geo O O O O B-time O O B-per I-per I-per O O...</td>\n",
       "    </tr>\n",
       "  </tbody>\n",
       "</table>\n",
       "</div>"
      ],
      "text/plain": [
       "                                                text  \\\n",
       "0  President Karzai thanked his allies for their ...   \n",
       "1  The commander of NATO 's Afghan force , Britis...   \n",
       "2  Referring to the fight in southern Afghanistan...   \n",
       "3  Richards was promoted to four-star general hou...   \n",
       "4  Burma 's military government said today that e...   \n",
       "\n",
       "                                              labels  \n",
       "0                    B-per I-per O O O O O O O O O O  \n",
       "1  O O O B-org O B-gpe O O B-org I-org B-per I-pe...  \n",
       "2  O O O O O B-geo I-geo O B-org O O O O B-time O...  \n",
       "3                        B-per O O O O O O O O O O O  \n",
       "4  B-geo O O O O B-time O O B-per I-per I-per O O...  "
      ]
     },
     "execution_count": 14,
     "metadata": {},
     "output_type": "execute_result"
    }
   ],
   "source": [
    "d = {'text':list_of_string_sentences,'labels':list_of_tag_sentences}\n",
    "dtf = pd.DataFrame(d, columns=['text','labels'])\n",
    "dtf.head()\n",
    "dtf.to_csv('myNER.csv', index=False)"
   ]
  },
  {
   "cell_type": "code",
   "execution_count": 13,
   "metadata": {},
   "outputs": [],
   "source": []
  },
  {
   "cell_type": "code",
   "execution_count": 44,
   "metadata": {},
   "outputs": [
    {
     "name": "stdout",
     "output_type": "stream",
     "text": [
      "len of sentences:9000\n",
      "An example is:\n",
      " Police said the British Home Office sought an investigation of Khayam 's behavior after he was photographed last week at a demonstration dressed in fatigues , a black cap , and a bulky belt .\n"
     ]
    }
   ],
   "source": [
    "space = \" \"\n",
    "list_of_string_sentences = [space.join(sentence) for sentence in sentences]\n",
    "print(f'len of sentences:{(len(list_of_string_sentences))}')\n",
    "print('An example is:\\n', list_of_string_sentences[42])"
   ]
  },
  {
   "cell_type": "code",
   "execution_count": null,
   "metadata": {},
   "outputs": [],
   "source": [
    "def listToString(s):\n",
    "    str1 = \" \"\n",
    "    return (str1.join(s))\n",
    "       \n",
    "\n",
    "print(listToString(s))"
   ]
  },
  {
   "cell_type": "code",
   "execution_count": 13,
   "metadata": {},
   "outputs": [
    {
     "name": "stdout",
     "output_type": "stream",
     "text": [
      "['B-per', 'I-per', 'O', 'B-org', 'B-gpe', 'I-org', 'B-geo', 'I-geo', 'B-time', 'I-time', 'I-gpe', 'B-obj', 'I-obj', 'B-event', 'I-event', 'nan']\n",
      "['NNP', 'VBD', 'PRP$', 'NNS', 'IN', 'NN', 'VBG', '.', 'DT', 'POS', 'JJ', ',', 'MD', 'VB', 'TO', 'RB', 'VBZ', 'VBN', 'CD', 'WP', 'PRP', 'CC', 'VBP', 'JJS', 'JJR', 'NNPS', 'WRB', 'WDT', 'WP$', '``', 'RP', 'PDT', 'EX', 'RBS', 'LRB', 'RRB', ':', '$', 'RBR', ';', 'UH', 'nan']\n"
     ]
    }
   ],
   "source": [
    "ags = df['Tag'].unique()\n",
    "tags = [str(tag) for tag in tags]\n",
    "print(ttags)\n",
    "\n",
    "positions = df['POS'].unique()\n",
    "positions = [str(pos) for pos in positions]\n",
    "print(positions)"
   ]
  },
  {
   "cell_type": "code",
   "execution_count": 15,
   "metadata": {},
   "outputs": [
    {
     "name": "stdout",
     "output_type": "stream",
     "text": [
      "{'B-event': 0, 'B-geo': 1, 'B-gpe': 2, 'B-obj': 3, 'B-org': 4, 'B-per': 5, 'B-time': 6, 'I-event': 7, 'I-geo': 8, 'I-gpe': 9, 'I-obj': 10, 'I-org': 11, 'I-per': 12, 'I-time': 13, 'O': 14, 'nan': 15}\n"
     ]
    }
   ],
   "source": [
    "labels_to_ids = {k: v for v, k in enumerate(sorted(tags))}\n",
    "print(labels_to_ids)"
   ]
  },
  {
   "cell_type": "code",
   "execution_count": null,
   "metadata": {},
   "outputs": [],
   "source": []
  }
 ],
 "metadata": {
  "kernelspec": {
   "display_name": "Python 3.10.4 ('nlp_bert')",
   "language": "python",
   "name": "python3"
  },
  "language_info": {
   "codemirror_mode": {
    "name": "ipython",
    "version": 3
   },
   "file_extension": ".py",
   "mimetype": "text/x-python",
   "name": "python",
   "nbconvert_exporter": "python",
   "pygments_lexer": "ipython3",
   "version": "3.10.4"
  },
  "orig_nbformat": 4,
  "vscode": {
   "interpreter": {
    "hash": "37ff7d383120de78e4cb1d778d7faf790bc36f3bc2b9c0df490a9411413866a9"
   }
  }
 },
 "nbformat": 4,
 "nbformat_minor": 2
}
